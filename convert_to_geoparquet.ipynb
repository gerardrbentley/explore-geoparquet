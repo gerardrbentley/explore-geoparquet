{
 "cells": [
  {
   "cell_type": "code",
   "execution_count": 6,
   "metadata": {},
   "outputs": [
    {
     "data": {
      "text/plain": [
       "('0.12.2', '10.0.1')"
      ]
     },
     "execution_count": 6,
     "metadata": {},
     "output_type": "execute_result"
    }
   ],
   "source": [
    "import geopandas\n",
    "import pyarrow\n",
    "\n",
    "geopandas.__version__, pyarrow.__version__"
   ]
  },
  {
   "cell_type": "code",
   "execution_count": 10,
   "metadata": {},
   "outputs": [],
   "source": [
    "SOURCE_SPATIAL_PATH = \"WB_countries_Admin0_10m\"\n",
    "PARQUET_PATH = \"countries.parquet\"\n",
    "FEATHER_PATH = \"countries.feather\""
   ]
  },
  {
   "cell_type": "code",
   "execution_count": 9,
   "metadata": {},
   "outputs": [
    {
     "name": "stdout",
     "output_type": "stream",
     "text": [
      "<class 'geopandas.geodataframe.GeoDataFrame'>\n",
      "RangeIndex: 251 entries, 0 to 250\n",
      "Data columns (total 53 columns):\n",
      " #   Column      Non-Null Count  Dtype   \n",
      "---  ------      --------------  -----   \n",
      " 0   OBJECTID    251 non-null    int64   \n",
      " 1   featurecla  251 non-null    object  \n",
      " 2   LEVEL       251 non-null    int64   \n",
      " 3   TYPE        251 non-null    object  \n",
      " 4   FORMAL_EN   229 non-null    object  \n",
      " 5   FORMAL_FR   5 non-null      object  \n",
      " 6   POP_EST     251 non-null    int64   \n",
      " 7   POP_RANK    251 non-null    int64   \n",
      " 8   GDP_MD_EST  251 non-null    float64 \n",
      " 9   POP_YEAR    251 non-null    int64   \n",
      " 10  LASTCENSUS  251 non-null    int64   \n",
      " 11  GDP_YEAR    251 non-null    int64   \n",
      " 12  ECONOMY     251 non-null    object  \n",
      " 13  INCOME_GRP  251 non-null    object  \n",
      " 14  FIPS_10_    251 non-null    object  \n",
      " 15  ISO_A2      251 non-null    object  \n",
      " 16  ISO_A3      251 non-null    object  \n",
      " 17  ISO_A3_EH   251 non-null    object  \n",
      " 18  ISO_N3      251 non-null    object  \n",
      " 19  UN_A3       251 non-null    object  \n",
      " 20  WB_A2       245 non-null    object  \n",
      " 21  WB_A3       251 non-null    object  \n",
      " 22  CONTINENT   251 non-null    object  \n",
      " 23  REGION_UN   251 non-null    object  \n",
      " 24  SUBREGION   251 non-null    object  \n",
      " 25  REGION_WB   251 non-null    object  \n",
      " 26  NAME_AR     251 non-null    object  \n",
      " 27  NAME_BN     248 non-null    object  \n",
      " 28  NAME_DE     251 non-null    object  \n",
      " 29  NAME_EN     251 non-null    object  \n",
      " 30  NAME_ES     251 non-null    object  \n",
      " 31  NAME_FR     251 non-null    object  \n",
      " 32  NAME_EL     251 non-null    object  \n",
      " 33  NAME_HI     250 non-null    object  \n",
      " 34  NAME_HU     251 non-null    object  \n",
      " 35  NAME_ID     251 non-null    object  \n",
      " 36  NAME_IT     251 non-null    object  \n",
      " 37  NAME_JA     251 non-null    object  \n",
      " 38  NAME_KO     251 non-null    object  \n",
      " 39  NAME_NL     251 non-null    object  \n",
      " 40  NAME_PL     251 non-null    object  \n",
      " 41  NAME_PT     251 non-null    object  \n",
      " 42  NAME_RU     251 non-null    object  \n",
      " 43  NAME_SV     251 non-null    object  \n",
      " 44  NAME_TR     251 non-null    object  \n",
      " 45  NAME_VI     251 non-null    object  \n",
      " 46  NAME_ZH     250 non-null    object  \n",
      " 47  WB_NAME     251 non-null    object  \n",
      " 48  WB_RULES    251 non-null    object  \n",
      " 49  WB_REGION   251 non-null    object  \n",
      " 50  Shape_Leng  251 non-null    float64 \n",
      " 51  Shape_Area  251 non-null    float64 \n",
      " 52  geometry    251 non-null    geometry\n",
      "dtypes: float64(3), geometry(1), int64(7), object(42)\n",
      "memory usage: 104.1+ KB\n"
     ]
    }
   ],
   "source": [
    "gdf = geopandas.read_file(SOURCE_SPATIAL_PATH)\n",
    "gdf.info()\n",
    "gdf.to_parquet(PARQUET_PATH)\n",
    "gdf.to_feather(FEATHER_PATH)"
   ]
  },
  {
   "cell_type": "code",
   "execution_count": 8,
   "metadata": {},
   "outputs": [
    {
     "name": "stdout",
     "output_type": "stream",
     "text": [
      "160 ms ± 583 µs per loop (mean ± std. dev. of 7 runs, 10 loops each)\n"
     ]
    }
   ],
   "source": [
    "%%timeit\n",
    "gdf = geopandas.read_file(SOURCE_SPATIAL_PATH)"
   ]
  },
  {
   "cell_type": "code",
   "execution_count": 12,
   "metadata": {},
   "outputs": [
    {
     "name": "stdout",
     "output_type": "stream",
     "text": [
      "24.7 ms ± 1.18 ms per loop (mean ± std. dev. of 7 runs, 1 loop each)\n"
     ]
    }
   ],
   "source": [
    "%%timeit\n",
    "gdf = geopandas.read_parquet(PARQUET_PATH)"
   ]
  },
  {
   "cell_type": "code",
   "execution_count": 13,
   "metadata": {},
   "outputs": [
    {
     "name": "stdout",
     "output_type": "stream",
     "text": [
      "21.9 ms ± 212 µs per loop (mean ± std. dev. of 7 runs, 10 loops each)\n"
     ]
    }
   ],
   "source": [
    "%%timeit\n",
    "gdf = geopandas.read_feather(FEATHER_PATH)"
   ]
  },
  {
   "cell_type": "code",
   "execution_count": null,
   "metadata": {},
   "outputs": [],
   "source": []
  }
 ],
 "metadata": {
  "kernelspec": {
   "display_name": "venv",
   "language": "python",
   "name": "python3"
  },
  "language_info": {
   "codemirror_mode": {
    "name": "ipython",
    "version": 3
   },
   "file_extension": ".py",
   "mimetype": "text/x-python",
   "name": "python",
   "nbconvert_exporter": "python",
   "pygments_lexer": "ipython3",
   "version": "3.10.8 (main, Nov  4 2022, 08:45:25) [Clang 12.0.0 ]"
  },
  "orig_nbformat": 4,
  "vscode": {
   "interpreter": {
    "hash": "33ca88cde741f6c80ae2322998f2a7d04a0af585fd08288a0fd2d3afce2b1d16"
   }
  }
 },
 "nbformat": 4,
 "nbformat_minor": 2
}
